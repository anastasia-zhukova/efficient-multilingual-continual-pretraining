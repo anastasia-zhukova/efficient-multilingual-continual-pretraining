{
 "cells": [
  {
   "cell_type": "code",
   "id": "initial_id",
   "metadata": {
    "collapsed": true,
    "ExecuteTime": {
     "end_time": "2024-04-28T14:51:54.571843Z",
     "start_time": "2024-04-28T14:51:54.489065Z"
    }
   },
   "source": [
    "%load_ext autoreload\n",
    "%autoreload 2"
   ],
   "outputs": [],
   "execution_count": 1
  },
  {
   "metadata": {
    "ExecuteTime": {
     "end_time": "2024-04-28T14:51:55.765380Z",
     "start_time": "2024-04-28T14:51:55.720497Z"
    }
   },
   "cell_type": "code",
   "source": [
    "import pandas as pd\n",
    "import seaborn as sns\n",
    "from matplotlib import pyplot as plt\n",
    "\n",
    "from efficient_multilingual_continual_pretraining.constants import PROJECT_ROOT "
   ],
   "id": "9a99a946cd6926f1",
   "outputs": [],
   "execution_count": 2
  },
  {
   "metadata": {},
   "cell_type": "code",
   "outputs": [],
   "execution_count": null,
   "source": [
    "# TODO: some categories are actually kinda similar to \"electronics\", e.g. \"pc\" or \"camera\" \n",
    "#   and those do not have a small number of objects. Maybe we should include them as well? \n",
    "\n",
    "# Test file distribution of stars is a little different from train and val. Should not be a problem though."
   ],
   "id": "85625f6967176a45"
  },
  {
   "metadata": {
    "ExecuteTime": {
     "end_time": "2024-04-28T15:04:06.477076Z",
     "start_time": "2024-04-28T15:04:06.289480Z"
    }
   },
   "cell_type": "code",
   "source": [
    "df = pd.read_csv(PROJECT_ROOT / \"data/amazon_reviews_multi/test.csv\", index_col=0)\n",
    "df.head()"
   ],
   "id": "e5e4cb87dfe95946",
   "outputs": [
    {
     "data": {
      "text/plain": [
       "    review_id          product_id          reviewer_id  stars  \\\n",
       "0  de_0784695  product_de_0572654  reviewer_de_0645436      1   \n",
       "1  de_0759207  product_de_0567331  reviewer_de_0183703      1   \n",
       "2  de_0711785  product_de_0482105  reviewer_de_0182152      1   \n",
       "3  de_0964430  product_de_0616480  reviewer_de_0991563      1   \n",
       "4  de_0474538  product_de_0228702  reviewer_de_0316188      1   \n",
       "\n",
       "                                         review_body  \\\n",
       "0  Leider, leider nach einmal waschen ausgebliche...   \n",
       "1  zunächst macht der Anker Halter einen soliden ...   \n",
       "2  Siegel sowie Verpackung war beschädigt und war...   \n",
       "3  Habe dieses Produkt NIE erhalten und das Geld ...   \n",
       "4                 Die Träger sind schnell abgerissen   \n",
       "\n",
       "                       review_title language     product_category  \n",
       "0         Leider nicht zu empfehlen       de                 home  \n",
       "1  Gummierung nach 6 Monaten kaputt       de             wireless  \n",
       "2                    Flohmarkt ware       de  industrial_supplies  \n",
       "3                       Katastrophe       de  industrial_supplies  \n",
       "4             Reißverschluss klemmt       de              luggage  "
      ],
      "text/html": [
       "<div>\n",
       "<style scoped>\n",
       "    .dataframe tbody tr th:only-of-type {\n",
       "        vertical-align: middle;\n",
       "    }\n",
       "\n",
       "    .dataframe tbody tr th {\n",
       "        vertical-align: top;\n",
       "    }\n",
       "\n",
       "    .dataframe thead th {\n",
       "        text-align: right;\n",
       "    }\n",
       "</style>\n",
       "<table border=\"1\" class=\"dataframe\">\n",
       "  <thead>\n",
       "    <tr style=\"text-align: right;\">\n",
       "      <th></th>\n",
       "      <th>review_id</th>\n",
       "      <th>product_id</th>\n",
       "      <th>reviewer_id</th>\n",
       "      <th>stars</th>\n",
       "      <th>review_body</th>\n",
       "      <th>review_title</th>\n",
       "      <th>language</th>\n",
       "      <th>product_category</th>\n",
       "    </tr>\n",
       "  </thead>\n",
       "  <tbody>\n",
       "    <tr>\n",
       "      <th>0</th>\n",
       "      <td>de_0784695</td>\n",
       "      <td>product_de_0572654</td>\n",
       "      <td>reviewer_de_0645436</td>\n",
       "      <td>1</td>\n",
       "      <td>Leider, leider nach einmal waschen ausgebliche...</td>\n",
       "      <td>Leider nicht zu empfehlen</td>\n",
       "      <td>de</td>\n",
       "      <td>home</td>\n",
       "    </tr>\n",
       "    <tr>\n",
       "      <th>1</th>\n",
       "      <td>de_0759207</td>\n",
       "      <td>product_de_0567331</td>\n",
       "      <td>reviewer_de_0183703</td>\n",
       "      <td>1</td>\n",
       "      <td>zunächst macht der Anker Halter einen soliden ...</td>\n",
       "      <td>Gummierung nach 6 Monaten kaputt</td>\n",
       "      <td>de</td>\n",
       "      <td>wireless</td>\n",
       "    </tr>\n",
       "    <tr>\n",
       "      <th>2</th>\n",
       "      <td>de_0711785</td>\n",
       "      <td>product_de_0482105</td>\n",
       "      <td>reviewer_de_0182152</td>\n",
       "      <td>1</td>\n",
       "      <td>Siegel sowie Verpackung war beschädigt und war...</td>\n",
       "      <td>Flohmarkt ware</td>\n",
       "      <td>de</td>\n",
       "      <td>industrial_supplies</td>\n",
       "    </tr>\n",
       "    <tr>\n",
       "      <th>3</th>\n",
       "      <td>de_0964430</td>\n",
       "      <td>product_de_0616480</td>\n",
       "      <td>reviewer_de_0991563</td>\n",
       "      <td>1</td>\n",
       "      <td>Habe dieses Produkt NIE erhalten und das Geld ...</td>\n",
       "      <td>Katastrophe</td>\n",
       "      <td>de</td>\n",
       "      <td>industrial_supplies</td>\n",
       "    </tr>\n",
       "    <tr>\n",
       "      <th>4</th>\n",
       "      <td>de_0474538</td>\n",
       "      <td>product_de_0228702</td>\n",
       "      <td>reviewer_de_0316188</td>\n",
       "      <td>1</td>\n",
       "      <td>Die Träger sind schnell abgerissen</td>\n",
       "      <td>Reißverschluss klemmt</td>\n",
       "      <td>de</td>\n",
       "      <td>luggage</td>\n",
       "    </tr>\n",
       "  </tbody>\n",
       "</table>\n",
       "</div>"
      ]
     },
     "execution_count": 29,
     "metadata": {},
     "output_type": "execute_result"
    }
   ],
   "execution_count": 29
  },
  {
   "metadata": {
    "ExecuteTime": {
     "end_time": "2024-04-28T15:04:07.641302Z",
     "start_time": "2024-04-28T15:04:07.583628Z"
    }
   },
   "cell_type": "code",
   "source": [
    "df = df[(df['language'] == 'de') & (df['product_category'] == 'electronics')]\n",
    "df = df.drop([\"review_id\", \"product_id\", \"reviewer_id\", \"language\", \"product_category\"], axis=1)\n",
    "df = df[['review_body', 'review_title', 'stars']]\n",
    "df.head()"
   ],
   "id": "93684bd0d67dcd6f",
   "outputs": [
    {
     "data": {
      "text/plain": [
       "                                           review_body  \\\n",
       "53   Leider absoluter Fehlkauf! Die Qualität und Ve...   \n",
       "60   Bereits nach wenigen tag in gebrauch kaputt, s...   \n",
       "68   Komplette Verarsche! Finger weg! Die App funkt...   \n",
       "120  Hallo, Eine der zwei Antennen ist ist leider n...   \n",
       "129  Funktioniert leider nicht. Gibt keinerlei Sign...   \n",
       "\n",
       "                           review_title  stars  \n",
       "53                        Nicht kaufen!      1  \n",
       "60                       Schnell kaputt      1  \n",
       "68                           Verarsche!      1  \n",
       "120                        Da fehlt was      1  \n",
       "129  Mangelhaft. Funktion nicht gegeben      1  "
      ],
      "text/html": [
       "<div>\n",
       "<style scoped>\n",
       "    .dataframe tbody tr th:only-of-type {\n",
       "        vertical-align: middle;\n",
       "    }\n",
       "\n",
       "    .dataframe tbody tr th {\n",
       "        vertical-align: top;\n",
       "    }\n",
       "\n",
       "    .dataframe thead th {\n",
       "        text-align: right;\n",
       "    }\n",
       "</style>\n",
       "<table border=\"1\" class=\"dataframe\">\n",
       "  <thead>\n",
       "    <tr style=\"text-align: right;\">\n",
       "      <th></th>\n",
       "      <th>review_body</th>\n",
       "      <th>review_title</th>\n",
       "      <th>stars</th>\n",
       "    </tr>\n",
       "  </thead>\n",
       "  <tbody>\n",
       "    <tr>\n",
       "      <th>53</th>\n",
       "      <td>Leider absoluter Fehlkauf! Die Qualität und Ve...</td>\n",
       "      <td>Nicht kaufen!</td>\n",
       "      <td>1</td>\n",
       "    </tr>\n",
       "    <tr>\n",
       "      <th>60</th>\n",
       "      <td>Bereits nach wenigen tag in gebrauch kaputt, s...</td>\n",
       "      <td>Schnell kaputt</td>\n",
       "      <td>1</td>\n",
       "    </tr>\n",
       "    <tr>\n",
       "      <th>68</th>\n",
       "      <td>Komplette Verarsche! Finger weg! Die App funkt...</td>\n",
       "      <td>Verarsche!</td>\n",
       "      <td>1</td>\n",
       "    </tr>\n",
       "    <tr>\n",
       "      <th>120</th>\n",
       "      <td>Hallo, Eine der zwei Antennen ist ist leider n...</td>\n",
       "      <td>Da fehlt was</td>\n",
       "      <td>1</td>\n",
       "    </tr>\n",
       "    <tr>\n",
       "      <th>129</th>\n",
       "      <td>Funktioniert leider nicht. Gibt keinerlei Sign...</td>\n",
       "      <td>Mangelhaft. Funktion nicht gegeben</td>\n",
       "      <td>1</td>\n",
       "    </tr>\n",
       "  </tbody>\n",
       "</table>\n",
       "</div>"
      ]
     },
     "execution_count": 30,
     "metadata": {},
     "output_type": "execute_result"
    }
   ],
   "execution_count": 30
  },
  {
   "metadata": {
    "ExecuteTime": {
     "end_time": "2024-04-28T15:04:09.633295Z",
     "start_time": "2024-04-28T15:04:09.402288Z"
    }
   },
   "cell_type": "code",
   "source": "df['stars'].hist()",
   "id": "676e35971817318a",
   "outputs": [
    {
     "data": {
      "text/plain": [
       "<Axes: >"
      ]
     },
     "execution_count": 31,
     "metadata": {},
     "output_type": "execute_result"
    },
    {
     "data": {
      "text/plain": [
       "<Figure size 640x480 with 1 Axes>"
      ],
      "image/png": "[encoded data removed]"
     },
     "metadata": {},
     "output_type": "display_data"
    }
   ],
   "execution_count": 31
  }
 ],
 "metadata": {
  "kernelspec": {
   "display_name": "Python 3",
   "language": "python",
   "name": "python3"
  },
  "language_info": {
   "codemirror_mode": {
    "name": "ipython",
    "version": 2
   },
   "file_extension": ".py",
   "mimetype": "text/x-python",
   "name": "python",
   "nbconvert_exporter": "python",
   "pygments_lexer": "ipython2",
   "version": "2.7.6"
  }
 },
 "nbformat": 4,
 "nbformat_minor": 5
}
