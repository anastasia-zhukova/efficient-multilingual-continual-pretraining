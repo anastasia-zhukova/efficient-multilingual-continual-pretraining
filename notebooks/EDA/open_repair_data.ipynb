{
 "cells": [
  {
   "metadata": {
    "ExecuteTime": {
     "end_time": "2024-06-05T18:44:29.371470Z",
     "start_time": "2024-06-05T18:44:29.312550Z"
    }
   },
   "cell_type": "code",
   "source": [
    "%load_ext autoreload\n",
    "%autoreload 2"
   ],
   "id": "24a40f64e18e1760",
   "outputs": [],
   "execution_count": 1
  },
  {
   "cell_type": "code",
   "id": "initial_id",
   "metadata": {
    "collapsed": true,
    "ExecuteTime": {
     "end_time": "2024-06-05T18:44:29.481200Z",
     "start_time": "2024-06-05T18:44:29.372468Z"
    }
   },
   "source": [
    "import pandas as pd\n",
    "import seaborn as sns\n",
    "from matplotlib import pyplot as plt\n",
    "\n",
    "from efficient_multilingual_continual_pretraining.constants import PROJECT_ROOT "
   ],
   "outputs": [],
   "execution_count": 2
  },
  {
   "metadata": {
    "ExecuteTime": {
     "end_time": "2024-04-28T14:47:16.714973Z",
     "start_time": "2024-04-28T14:47:16.671092Z"
    }
   },
   "cell_type": "code",
   "source": [
    "# All categories have 'big category ~ small category' syntax.\n",
    "# Some \"solutions\" are not in fact solutions, for example:\n",
    "#   Mit Gast besprochen, das wir die Reparatur fortsetzen, wenn ein neuer Schalter und Gummibänder zur Verfügung stehen.\n",
    "#   (We will continue once the repair details arrive)\n",
    "# Some \"problems\" also have parts of solutions, for example, the two of the longest (500+ characters) problems have\n",
    "# something like \"We did this, did this, and found out it is all about the capacitor. And the solution is to reinstall the capacitor."
   ],
   "id": "d5c32cdf14cb6e3a",
   "outputs": [],
   "execution_count": 102
  },
  {
   "metadata": {
    "ExecuteTime": {
     "end_time": "2024-06-05T19:21:00.283165Z",
     "start_time": "2024-06-05T19:21:00.206823Z"
    }
   },
   "cell_type": "code",
   "source": [
    "df = pd.read_csv(PROJECT_ROOT / \"data/OpenRepairData_v0.csv\", encoding='iso-8859-1')\n",
    "df['id'].nunique() == len(df)"
   ],
   "id": "38bd636719401147",
   "outputs": [
    {
     "data": {
      "text/plain": [
       "True"
      ]
     },
     "execution_count": 13,
     "metadata": {},
     "output_type": "execute_result"
    }
   ],
   "execution_count": 13
  },
  {
   "metadata": {
    "ExecuteTime": {
     "end_time": "2024-06-05T19:21:01.059127Z",
     "start_time": "2024-06-05T19:21:01.013217Z"
    }
   },
   "cell_type": "code",
   "source": [
    "df = df[['partner_product_category', 'Problem_refined', 'Solution_refined']]\n",
    "df.head()"
   ],
   "id": "77abb05aeb95d747",
   "outputs": [
    {
     "data": {
      "text/plain": [
       "                      partner_product_category  \\\n",
       "0                            Computer ~ Laptop   \n",
       "1             Haushaltsgeräte ~ Kaffeemaschine   \n",
       "2                 Haushaltsgeräte ~ Bügeleisen   \n",
       "3              Haushaltsgeräte ~ Handrührgerät   \n",
       "4  Unterhaltungselektronik ~ Kassettenrekorder   \n",
       "\n",
       "                         Problem_refined  \\\n",
       "0  Netzteilbuchse und Grafikkarte defekt   \n",
       "1         Fehlermeldungen, Motorgeräusch   \n",
       "2                      Bedienungsfehler.   \n",
       "3                     Zahnrad gebrochen.   \n",
       "4        Kassette Wiedergabe geht nicht.   \n",
       "\n",
       "                                    Solution_refined  \n",
       "0                                                NaN  \n",
       "1                                                NaN  \n",
       "2                             Besitzerin eingewiesen  \n",
       "3         Besitzerin besorgt einen neuen Zahnradsatz  \n",
       "4  Kassettenlaufwerk, Tonkopf, Wellen usw. gerein...  "
      ],
      "text/html": [
       "<div>\n",
       "<style scoped>\n",
       "    .dataframe tbody tr th:only-of-type {\n",
       "        vertical-align: middle;\n",
       "    }\n",
       "\n",
       "    .dataframe tbody tr th {\n",
       "        vertical-align: top;\n",
       "    }\n",
       "\n",
       "    .dataframe thead th {\n",
       "        text-align: right;\n",
       "    }\n",
       "</style>\n",
       "<table border=\"1\" class=\"dataframe\">\n",
       "  <thead>\n",
       "    <tr style=\"text-align: right;\">\n",
       "      <th></th>\n",
       "      <th>partner_product_category</th>\n",
       "      <th>Problem_refined</th>\n",
       "      <th>Solution_refined</th>\n",
       "    </tr>\n",
       "  </thead>\n",
       "  <tbody>\n",
       "    <tr>\n",
       "      <th>0</th>\n",
       "      <td>Computer ~ Laptop</td>\n",
       "      <td>Netzteilbuchse und Grafikkarte defekt</td>\n",
       "      <td>NaN</td>\n",
       "    </tr>\n",
       "    <tr>\n",
       "      <th>1</th>\n",
       "      <td>Haushaltsgeräte ~ Kaffeemaschine</td>\n",
       "      <td>Fehlermeldungen, Motorgeräusch</td>\n",
       "      <td>NaN</td>\n",
       "    </tr>\n",
       "    <tr>\n",
       "      <th>2</th>\n",
       "      <td>Haushaltsgeräte ~ Bügeleisen</td>\n",
       "      <td>Bedienungsfehler.</td>\n",
       "      <td>Besitzerin eingewiesen</td>\n",
       "    </tr>\n",
       "    <tr>\n",
       "      <th>3</th>\n",
       "      <td>Haushaltsgeräte ~ Handrührgerät</td>\n",
       "      <td>Zahnrad gebrochen.</td>\n",
       "      <td>Besitzerin besorgt einen neuen Zahnradsatz</td>\n",
       "    </tr>\n",
       "    <tr>\n",
       "      <th>4</th>\n",
       "      <td>Unterhaltungselektronik ~ Kassettenrekorder</td>\n",
       "      <td>Kassette Wiedergabe geht nicht.</td>\n",
       "      <td>Kassettenlaufwerk, Tonkopf, Wellen usw. gerein...</td>\n",
       "    </tr>\n",
       "  </tbody>\n",
       "</table>\n",
       "</div>"
      ]
     },
     "execution_count": 14,
     "metadata": {},
     "output_type": "execute_result"
    }
   ],
   "execution_count": 14
  },
  {
   "metadata": {
    "ExecuteTime": {
     "end_time": "2024-06-05T19:21:02.875828Z",
     "start_time": "2024-06-05T19:21:02.823767Z"
    }
   },
   "cell_type": "code",
   "source": [
    "original_size = len(df)\n",
    "df = df.dropna().reset_index(drop=True)\n",
    "print(f'Dropped {original_size - len(df)} rows with NaN values, have {len(df)} entries remaining.')\n",
    "df.columns = ['product_category', 'problem', 'solution']\n",
    "df.head(10)"
   ],
   "id": "fdbc8e561feb42a4",
   "outputs": [
    {
     "name": "stdout",
     "output_type": "stream",
     "text": [
      "Dropped 4590 rows with NaN values, have 2603 entries remaining.\n"
     ]
    },
    {
     "data": {
      "text/plain": [
       "                              product_category  \\\n",
       "0                 Haushaltsgeräte ~ Bügeleisen   \n",
       "1              Haushaltsgeräte ~ Handrührgerät   \n",
       "2  Unterhaltungselektronik ~ Kassettenrekorder   \n",
       "3       Unterhaltungselektronik ~ Stereoanlage   \n",
       "4           Unterhaltungselektronik ~ CD-Radio   \n",
       "5                      Elektro divers ~ E-Auto   \n",
       "6  Unterhaltungselektronik ~ Kassettenrekorder   \n",
       "7                    Smartphone/Tablet ~ Handy   \n",
       "8       Unterhaltungselektronik ~ Stereoanlage   \n",
       "9              Haushaltsgeräte ~ Handrührgerät   \n",
       "\n",
       "                                             problem  \\\n",
       "0                                  Bedienungsfehler.   \n",
       "1                                 Zahnrad gebrochen.   \n",
       "2                    Kassette Wiedergabe geht nicht.   \n",
       "3  geht alleine immer wieder aus; Kassettendeck B...   \n",
       "4    CD wird nicht abgespielt.Die CD lief nicht an.    \n",
       "5                                     keine funktion   \n",
       "6                                     Antrieb leiert   \n",
       "7                           kein Einschalten möglich   \n",
       "8               keine Funktion nach Stromabschaltung   \n",
       "9                                     Schraube fehlt   \n",
       "\n",
       "                                            solution  \n",
       "0                             Besitzerin eingewiesen  \n",
       "1         Besitzerin besorgt einen neuen Zahnradsatz  \n",
       "2  Kassettenlaufwerk, Tonkopf, Wellen usw. gerein...  \n",
       "3                          2 Elkos wurden gewechselt  \n",
       "4  Das Gerät wurde bis zum CD-Laufwerk demontiert...  \n",
       "5    Ladegerät getestet, neuer Bleiakku erforderlich  \n",
       "6                                Riemen ausgetauscht  \n",
       "7              Sturzschaden durch Neumontage behoben  \n",
       "8   Background-Led vom Display erneuert (gelbe LED!)  \n",
       "9                                 Schraube angepasst  "
      ],
      "text/html": [
       "<div>\n",
       "<style scoped>\n",
       "    .dataframe tbody tr th:only-of-type {\n",
       "        vertical-align: middle;\n",
       "    }\n",
       "\n",
       "    .dataframe tbody tr th {\n",
       "        vertical-align: top;\n",
       "    }\n",
       "\n",
       "    .dataframe thead th {\n",
       "        text-align: right;\n",
       "    }\n",
       "</style>\n",
       "<table border=\"1\" class=\"dataframe\">\n",
       "  <thead>\n",
       "    <tr style=\"text-align: right;\">\n",
       "      <th></th>\n",
       "      <th>product_category</th>\n",
       "      <th>problem</th>\n",
       "      <th>solution</th>\n",
       "    </tr>\n",
       "  </thead>\n",
       "  <tbody>\n",
       "    <tr>\n",
       "      <th>0</th>\n",
       "      <td>Haushaltsgeräte ~ Bügeleisen</td>\n",
       "      <td>Bedienungsfehler.</td>\n",
       "      <td>Besitzerin eingewiesen</td>\n",
       "    </tr>\n",
       "    <tr>\n",
       "      <th>1</th>\n",
       "      <td>Haushaltsgeräte ~ Handrührgerät</td>\n",
       "      <td>Zahnrad gebrochen.</td>\n",
       "      <td>Besitzerin besorgt einen neuen Zahnradsatz</td>\n",
       "    </tr>\n",
       "    <tr>\n",
       "      <th>2</th>\n",
       "      <td>Unterhaltungselektronik ~ Kassettenrekorder</td>\n",
       "      <td>Kassette Wiedergabe geht nicht.</td>\n",
       "      <td>Kassettenlaufwerk, Tonkopf, Wellen usw. gerein...</td>\n",
       "    </tr>\n",
       "    <tr>\n",
       "      <th>3</th>\n",
       "      <td>Unterhaltungselektronik ~ Stereoanlage</td>\n",
       "      <td>geht alleine immer wieder aus; Kassettendeck B...</td>\n",
       "      <td>2 Elkos wurden gewechselt</td>\n",
       "    </tr>\n",
       "    <tr>\n",
       "      <th>4</th>\n",
       "      <td>Unterhaltungselektronik ~ CD-Radio</td>\n",
       "      <td>CD wird nicht abgespielt.Die CD lief nicht an.</td>\n",
       "      <td>Das Gerät wurde bis zum CD-Laufwerk demontiert...</td>\n",
       "    </tr>\n",
       "    <tr>\n",
       "      <th>5</th>\n",
       "      <td>Elektro divers ~ E-Auto</td>\n",
       "      <td>keine funktion</td>\n",
       "      <td>Ladegerät getestet, neuer Bleiakku erforderlich</td>\n",
       "    </tr>\n",
       "    <tr>\n",
       "      <th>6</th>\n",
       "      <td>Unterhaltungselektronik ~ Kassettenrekorder</td>\n",
       "      <td>Antrieb leiert</td>\n",
       "      <td>Riemen ausgetauscht</td>\n",
       "    </tr>\n",
       "    <tr>\n",
       "      <th>7</th>\n",
       "      <td>Smartphone/Tablet ~ Handy</td>\n",
       "      <td>kein Einschalten möglich</td>\n",
       "      <td>Sturzschaden durch Neumontage behoben</td>\n",
       "    </tr>\n",
       "    <tr>\n",
       "      <th>8</th>\n",
       "      <td>Unterhaltungselektronik ~ Stereoanlage</td>\n",
       "      <td>keine Funktion nach Stromabschaltung</td>\n",
       "      <td>Background-Led vom Display erneuert (gelbe LED!)</td>\n",
       "    </tr>\n",
       "    <tr>\n",
       "      <th>9</th>\n",
       "      <td>Haushaltsgeräte ~ Handrührgerät</td>\n",
       "      <td>Schraube fehlt</td>\n",
       "      <td>Schraube angepasst</td>\n",
       "    </tr>\n",
       "  </tbody>\n",
       "</table>\n",
       "</div>"
      ]
     },
     "execution_count": 15,
     "metadata": {},
     "output_type": "execute_result"
    }
   ],
   "execution_count": 15
  },
  {
   "metadata": {
    "ExecuteTime": {
     "end_time": "2024-06-05T19:21:20.506898Z",
     "start_time": "2024-06-05T19:21:20.460157Z"
    }
   },
   "cell_type": "code",
   "source": "df['product_category'].value_counts()",
   "id": "7c31888cc564c413",
   "outputs": [
    {
     "data": {
      "text/plain": [
       "product_category\n",
       "Haushaltsgeräte ~ Staubsauger          166\n",
       "Elektro divers ~ Nähmaschine           127\n",
       "Elektro divers ~ Lampe                  95\n",
       "Computer ~ Laptop                       91\n",
       "Unterhaltungselektronik ~ Radio         88\n",
       "                                      ... \n",
       "Elektro divers ~ Motor                   1\n",
       "Elektro divers ~ E-Gehrungssäge          1\n",
       "Elektro divers ~ Inverter                1\n",
       "Unterhaltungselektronik ~ Equalizer      1\n",
       "Elektro divers ~ Laufband                1\n",
       "Name: count, Length: 277, dtype: int64"
      ]
     },
     "execution_count": 16,
     "metadata": {},
     "output_type": "execute_result"
    }
   ],
   "execution_count": 16
  },
  {
   "metadata": {
    "ExecuteTime": {
     "end_time": "2024-04-28T14:41:14.373332Z",
     "start_time": "2024-04-28T14:41:13.831384Z"
    }
   },
   "cell_type": "code",
   "source": [
    "len_df = df[['problem', 'solution']]\n",
    "for column in len_df.columns:\n",
    "    len_df.loc[:, column] = len_df[column].apply(lambda x: len(x))\n",
    "\n",
    "# Melt the DataFrame\n",
    "melted_df = len_df.melt(value_vars=['problem', 'solution'], var_name='Category', value_name='Length')\n",
    "\n",
    "# Plotting\n",
    "plt.figure(figsize=(10, 6))\n",
    "sns.histplot(data=melted_df, x='Length', hue='Category', bins=50)\n",
    "plt.title('Length of objects (in characters)')\n",
    "plt.grid()\n",
    "plt.show()"
   ],
   "id": "778fa9435f55bf6",
   "outputs": [
    {
     "data": {
      "text/plain": [
       "<Figure size 1000x600 with 1 Axes>"
      ],
      "image/png": "[encoded data removed]"
     },
     "metadata": {},
     "output_type": "display_data"
    }
   ],
   "execution_count": 98
  },
  {
   "metadata": {
    "ExecuteTime": {
     "end_time": "2024-04-28T14:45:33.293466Z",
     "start_time": "2024-04-28T14:45:33.247588Z"
    }
   },
   "cell_type": "code",
   "source": "df[len_df['problem'] > 500]",
   "id": "d5f80d7c60d37e4b",
   "outputs": [
    {
     "data": {
      "text/plain": [
       "                      product_category  \\\n",
       "2491  Haushaltsgeräte ~ Kaffeemaschine   \n",
       "2570      Elektro divers ~ Steuergerät   \n",
       "\n",
       "                                                problem  \\\n",
       "2491  Sie lief nicht mehr so zuverlässig, wie früher...   \n",
       "2570  Es funktionierte nicht mehr, d. h. der eingekl...   \n",
       "\n",
       "                                               solution  \n",
       "2491  Nach dem Austausch des Kondensators (die wir n...  \n",
       "2570  Der Besucher will im Internet Ersatzteile best...  "
      ],
      "text/html": [
       "<div>\n",
       "<style scoped>\n",
       "    .dataframe tbody tr th:only-of-type {\n",
       "        vertical-align: middle;\n",
       "    }\n",
       "\n",
       "    .dataframe tbody tr th {\n",
       "        vertical-align: top;\n",
       "    }\n",
       "\n",
       "    .dataframe thead th {\n",
       "        text-align: right;\n",
       "    }\n",
       "</style>\n",
       "<table border=\"1\" class=\"dataframe\">\n",
       "  <thead>\n",
       "    <tr style=\"text-align: right;\">\n",
       "      <th></th>\n",
       "      <th>product_category</th>\n",
       "      <th>problem</th>\n",
       "      <th>solution</th>\n",
       "    </tr>\n",
       "  </thead>\n",
       "  <tbody>\n",
       "    <tr>\n",
       "      <th>2491</th>\n",
       "      <td>Haushaltsgeräte ~ Kaffeemaschine</td>\n",
       "      <td>Sie lief nicht mehr so zuverlässig, wie früher...</td>\n",
       "      <td>Nach dem Austausch des Kondensators (die wir n...</td>\n",
       "    </tr>\n",
       "    <tr>\n",
       "      <th>2570</th>\n",
       "      <td>Elektro divers ~ Steuergerät</td>\n",
       "      <td>Es funktionierte nicht mehr, d. h. der eingekl...</td>\n",
       "      <td>Der Besucher will im Internet Ersatzteile best...</td>\n",
       "    </tr>\n",
       "  </tbody>\n",
       "</table>\n",
       "</div>"
      ]
     },
     "execution_count": 101,
     "metadata": {},
     "output_type": "execute_result"
    }
   ],
   "execution_count": 101
  }
 ],
 "metadata": {
  "kernelspec": {
   "display_name": "Python 3",
   "language": "python",
   "name": "python3"
  },
  "language_info": {
   "codemirror_mode": {
    "name": "ipython",
    "version": 2
   },
   "file_extension": ".py",
   "mimetype": "text/x-python",
   "name": "python",
   "nbconvert_exporter": "python",
   "pygments_lexer": "ipython2",
   "version": "2.7.6"
  }
 },
 "nbformat": 4,
 "nbformat_minor": 5
}
